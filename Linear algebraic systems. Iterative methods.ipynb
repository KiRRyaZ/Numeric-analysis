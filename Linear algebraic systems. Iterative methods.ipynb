{
 "cells": [
  {
   "cell_type": "code",
   "execution_count": 1,
   "metadata": {
    "collapsed": true
   },
   "outputs": [],
   "source": [
    "import scipy.linalg as lin\n",
    "import numpy as np"
   ]
  },
  {
   "cell_type": "markdown",
   "metadata": {},
   "source": [
    "### Accuracy"
   ]
  },
  {
   "cell_type": "code",
   "execution_count": 2,
   "metadata": {},
   "outputs": [],
   "source": [
    "ε = 1e-3"
   ]
  },
  {
   "cell_type": "markdown",
   "metadata": {},
   "source": [
    "# Task 1"
   ]
  },
  {
   "cell_type": "markdown",
   "metadata": {},
   "source": [
    "## System of equations\n",
    "### $\n",
    "% \\begin{equation*}\n",
    "\\begin{cases}\n",
    "      x_1 = 0.25x_2 - 0.38x_3 + 0.08x_4 + 0.126\\\\\n",
    "      x_2 = -0.42x_3 + 0.127x_4 - 0.6\\\\\n",
    "      x_3 = 0.1x_1 + 0.166x_4 + 0.787\\\\\n",
    "      x_4 = 0.316x_1 + 0.114x_2 + 0.418x_3 - 2.15\\\\\n",
    "\\end{cases}\n",
    "% \\end{equation*}\n",
    "$\n",
    "## Matrix"
   ]
  },
  {
   "cell_type": "code",
   "execution_count": 3,
   "metadata": {
    "collapsed": true
   },
   "outputs": [],
   "source": [
    "A = np.matrix([[0, 0.25, -0.38,  0.08], \n",
    "              [0, 0, -0.42,  0.127], \n",
    "              [0.1, 0, 0, 0.166], \n",
    "              [0.316, 0.114, 0.418, 0]])\n",
    "b = np.array([0.126, -0.6, 0.787, -2.15])"
   ]
  },
  {
   "cell_type": "markdown",
   "metadata": {},
   "source": [
    "## Fixed-point iteration method"
   ]
  },
  {
   "cell_type": "code",
   "execution_count": 4,
   "metadata": {
    "collapsed": true
   },
   "outputs": [],
   "source": [
    "def fixed_point(A, b, tol=1e-3, maxiter=100):    \n",
    "    \"\"\"Return the solving\n",
    "    of the system of equations \n",
    "    using fixed-point iteration method\n",
    "    \"\"\"\n",
    "    l_inf = lin.norm(A, ord=np.inf)\n",
    "    stop = np.abs((1-l_inf)/l_inf) * tol\n",
    "    x = np.ones(len(A)) * 2\n",
    "    for i in range(maxiter):\n",
    "        x0 = x\n",
    "        x = (A@x + b).A1\n",
    "        if np.max(np.abs(x-x0)) <= stop: \n",
    "            return x, i\n",
    "    return x, maxiter"
   ]
  },
  {
   "cell_type": "markdown",
   "metadata": {},
   "source": [
    "### Matrix norm for checking for a sufficient convergence condition\n",
    "## $||\\alpha||<1$"
   ]
  },
  {
   "cell_type": "markdown",
   "metadata": {},
   "source": [
    "### $l_2$"
   ]
  },
  {
   "cell_type": "code",
   "execution_count": 5,
   "metadata": {},
   "outputs": [
    {
     "data": {
      "text/plain": [
       "True"
      ]
     },
     "execution_count": 5,
     "metadata": {},
     "output_type": "execute_result"
    }
   ],
   "source": [
    "lin.norm(A) < 1"
   ]
  },
  {
   "cell_type": "markdown",
   "metadata": {},
   "source": [
    "### Roots"
   ]
  },
  {
   "cell_type": "markdown",
   "metadata": {},
   "source": [
    "### scipy.linlag.solve"
   ]
  },
  {
   "cell_type": "code",
   "execution_count": 6,
   "metadata": {},
   "outputs": [
    {
     "name": "stdout",
     "output_type": "stream",
     "text": [
      "x = [-0.45423458 -1.04085546  0.36658894 -2.25896147]\n"
     ]
    }
   ],
   "source": [
    "A1 = -A.copy()\n",
    "for i in range(len(A1)):\n",
    "    A1[i, i] = 1\n",
    "    \n",
    "print(f\"x = {lin.solve(A1, b)}\")"
   ]
  },
  {
   "cell_type": "markdown",
   "metadata": {},
   "source": [
    "### Personal"
   ]
  },
  {
   "cell_type": "code",
   "execution_count": 7,
   "metadata": {},
   "outputs": [
    {
     "name": "stdout",
     "output_type": "stream",
     "text": [
      "x = [-0.45424212 -1.04086658  0.36661837 -2.25890873]\n",
      "iterations = 9\n"
     ]
    }
   ],
   "source": [
    "x, iter_number = fixed_point(A, b, ε)\n",
    "print(f\"x = {x}\")\n",
    "print(f\"iterations = {iter_number}\")"
   ]
  },
  {
   "cell_type": "markdown",
   "metadata": {},
   "source": [
    "#### Check"
   ]
  },
  {
   "cell_type": "code",
   "execution_count": 9,
   "metadata": {},
   "outputs": [
    {
     "data": {
      "text/plain": [
       "True"
      ]
     },
     "execution_count": 9,
     "metadata": {},
     "output_type": "execute_result"
    }
   ],
   "source": [
    "np.allclose(A1 @ x, b, atol=ε)"
   ]
  },
  {
   "cell_type": "markdown",
   "metadata": {},
   "source": [
    "# Task 2"
   ]
  },
  {
   "cell_type": "markdown",
   "metadata": {},
   "source": [
    "## System of equations\n",
    "### $\n",
    "% \\begin{equation*}\n",
    "\\begin{cases}\n",
    "      12.16x_1 + 1.45x_2 - 0.89x_3 = 12.72\\\\\n",
    "      1.45x_1 + 10.44x_2 + 1.18x_3 = 13.07\\\\\n",
    "      -0.89x_1 + 1.18x_2 + 12.07x_3 = 12.36\\\\\n",
    "\\end{cases}\n",
    "% \\end{equation*}\n",
    "$\n",
    "## Matrix"
   ]
  },
  {
   "cell_type": "code",
   "execution_count": 10,
   "metadata": {
    "collapsed": true
   },
   "outputs": [],
   "source": [
    "A = np.matrix([[12.16, 1.45, -0.89], \n",
    "               [1.45, 10.44, 1.18], \n",
    "               [-0.89, 1.18, 12.07]])\n",
    "b = np.array([12.72, 13.07, 12.36])"
   ]
  },
  {
   "cell_type": "markdown",
   "metadata": {},
   "source": [
    "### scipy.linalg.solve"
   ]
  },
  {
   "cell_type": "code",
   "execution_count": 11,
   "metadata": {},
   "outputs": [
    {
     "name": "stdout",
     "output_type": "stream",
     "text": [
      "x = [ 1.  1.  1.]\n"
     ]
    }
   ],
   "source": [
    "print(f\"x = {lin.solve(A, b)}\")"
   ]
  },
  {
   "cell_type": "markdown",
   "metadata": {},
   "source": [
    "## Jacobi method"
   ]
  },
  {
   "cell_type": "code",
   "execution_count": 12,
   "metadata": {
    "collapsed": true
   },
   "outputs": [],
   "source": [
    "def jacobi(A, b, tol=1e-3, maxiter=100):\n",
    "    \"\"\"Return the solving\n",
    "    of the system of equations \n",
    "    using Jacobi method\n",
    "    \"\"\"\n",
    "    D = np.diag(A)    \n",
    "    R = A.A - np.diagflat(D) \n",
    "    x = np.ones(len(A)) * 2\n",
    "    for i in range(maxiter):\n",
    "        x0 = x\n",
    "        x = (b - R@x) / D\n",
    "        if np.abs(np.max(x-x0)) < tol:\n",
    "            return x, i\n",
    "    return x, maxiter"
   ]
  },
  {
   "cell_type": "code",
   "execution_count": 13,
   "metadata": {},
   "outputs": [
    {
     "name": "stdout",
     "output_type": "stream",
     "text": [
      "x = [ 1.00007164  0.99980924  1.00008163]\n",
      "iterations = 4\n"
     ]
    }
   ],
   "source": [
    "x, iterations = jacobi(A, b, ε)\n",
    "print(f\"x = {x}\")\n",
    "print(f\"iterations = {iterations}\")"
   ]
  },
  {
   "cell_type": "markdown",
   "metadata": {},
   "source": [
    "## Gauss-Seidel method"
   ]
  },
  {
   "cell_type": "code",
   "execution_count": 14,
   "metadata": {},
   "outputs": [],
   "source": [
    "def gauss_seidel(A, b, tol=1e-3, maxiter=100):     \n",
    "    \"\"\"Return the solving\n",
    "    of the system of equations \n",
    "    using Gauss-Seidel method\n",
    "    \"\"\"\n",
    "    LD = np.tril(A)\n",
    "    U = np.triu(A, 1)\n",
    "    x = np.ones(len(A)) * 2\n",
    "    for i in range(maxiter):\n",
    "        x0 = np.array(x)\n",
    "        x = lin.inv(LD) @ (b - U@x)\n",
    "        if np.abs(np.max(x-x0)) < tol:\n",
    "            return x, i\n",
    "    return x, maxiter"
   ]
  },
  {
   "cell_type": "code",
   "execution_count": 15,
   "metadata": {},
   "outputs": [
    {
     "name": "stdout",
     "output_type": "stream",
     "text": [
      "x = [ 1.00002689  0.99999074  1.00000289]\n",
      "iterations = 3\n"
     ]
    }
   ],
   "source": [
    "x, iterations = gauss_seidel(A, b, ε)\n",
    "print(f\"x = {x}\")\n",
    "print(f\"iterations = {iterations}\")"
   ]
  }
 ],
 "metadata": {
  "kernelspec": {
   "display_name": "Python 3",
   "language": "python",
   "name": "python3"
  },
  "language_info": {
   "codemirror_mode": {
    "name": "ipython",
    "version": 3
   },
   "file_extension": ".py",
   "mimetype": "text/x-python",
   "name": "python",
   "nbconvert_exporter": "python",
   "pygments_lexer": "ipython3",
   "version": "3.6.1"
  },
  "latex_envs": {
   "LaTeX_envs_menu_present": true,
   "autocomplete": true,
   "bibliofile": "biblio.bib",
   "cite_by": "apalike",
   "current_citInitial": 1,
   "eqLabelWithNumbers": true,
   "eqNumInitial": 1,
   "hotkeys": {
    "equation": "Ctrl-E",
    "itemize": "Ctrl-I"
   },
   "labels_anchors": false,
   "latex_user_defs": false,
   "report_style_numbering": false,
   "user_envs_cfg": false
  }
 },
 "nbformat": 4,
 "nbformat_minor": 2
}
