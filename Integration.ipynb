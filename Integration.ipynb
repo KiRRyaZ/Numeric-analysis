{
 "cells": [
  {
   "cell_type": "code",
   "execution_count": 2,
   "metadata": {
    "collapsed": true
   },
   "outputs": [],
   "source": [
    "import scipy.integrate as integrate\n",
    "from scipy.special import roots_legendre\n",
    "import numpy as np\n",
    "import numpy.linalg as lin\n",
    "import matplotlib.pyplot as plt\n",
    "from pandas import DataFrame\n",
    "from sympy import symbols, solve"
   ]
  },
  {
   "cell_type": "code",
   "execution_count": 3,
   "metadata": {
    "collapsed": true
   },
   "outputs": [],
   "source": [
    "%matplotlib inline\n",
    "plt.style.use(\"seaborn\")\n",
    "plt.rc('figure', figsize=(10, 10))"
   ]
  },
  {
   "cell_type": "code",
   "execution_count": 12,
   "metadata": {},
   "outputs": [],
   "source": [
    "def local_max_min(func, a, b, max=True):\n",
    "    \"\"\"Return the local maximum or minimum \n",
    "    of the given function on the segment [a, b]\n",
    "    \"\"\"    \n",
    "    x = symbols('x')    \n",
    "    extrems = solve(func(x).diff(), x)\n",
    "    possible_vals = [func(a), func(b)]\n",
    "    for extremum in extrems:\n",
    "        ext = float(extremum)            \n",
    "        if b > ext > a:\n",
    "            possible_vals.append(func(ext))\n",
    "    return np.max(possible_vals) if max else np.min(possible_vals)\n",
    "\n",
    "def print_results(n, res, act_res):\n",
    "    \"\"\"Print a pretty form of the functions result\"\"\"    \n",
    "    print(f\"Number of nodes: {n}\")\n",
    "    print(f\"Value: {res}\")\n",
    "    print(f\"Absolute error: {np.abs(act_res - res)}\")\n",
    "    print(f\"Relative error: {np.abs((act_res - res) / act_res)}\")"
   ]
  },
  {
   "cell_type": "markdown",
   "metadata": {},
   "source": [
    "# Task 1\n",
    "## $\\int\\limits_1^2{\\frac{xdx}{(x^2 + 4)^2}}\\\\F(x) = -\\frac{1}{2(x^2 + 4)}$"
   ]
  },
  {
   "cell_type": "code",
   "execution_count": 7,
   "metadata": {
    "collapsed": true
   },
   "outputs": [],
   "source": [
    "def F(x):\n",
    "    return -1 / (2*(x**2 + 4))\n",
    "\n",
    "def f(x):\n",
    "    return x / (x**2 + 4)**2\n",
    "\n",
    "def df(x):\n",
    "    return (4 - 3*(x**2)) / (x**2  +4)**3\n",
    "\n",
    "def d2f(x):\n",
    "    return 12 * x * (x**2 - 4) / (x**2 + 4)**4\n",
    "\n",
    "A = 1\n",
    "B = 2"
   ]
  },
  {
   "cell_type": "markdown",
   "metadata": {},
   "source": [
    "## Graph"
   ]
  },
  {
   "cell_type": "code",
   "execution_count": 8,
   "metadata": {},
   "outputs": [
    {
     "data": {
      "text/plain": [
       "<matplotlib.collections.PolyCollection at 0xc7c8d90>"
      ]
     },
     "execution_count": 8,
     "metadata": {},
     "output_type": "execute_result"
    },
    {
     "data": {
      "image/png": "[encoded data removed]",
      "text/plain": [
       "<Figure size 720x720 with 1 Axes>"
      ]
     },
     "metadata": {},
     "output_type": "display_data"
    }
   ],
   "source": [
    "X = np.linspace(-10, 10, 1000)\n",
    "X_A_B = np.linspace(A, B, 1000)\n",
    "plt.plot(X, f(X), c=\"maroon\")\n",
    "\n",
    "plt.fill_between(X_A_B, f(X_A_B), color=\"maroon\")"
   ]
  },
  {
   "cell_type": "markdown",
   "metadata": {},
   "source": [
    "## Accurate value of the integral\n",
    "### F(2) - F(1)"
   ]
  },
  {
   "cell_type": "code",
   "execution_count": 9,
   "metadata": {},
   "outputs": [
    {
     "data": {
      "text/plain": [
       "0.037500000000000006"
      ]
     },
     "execution_count": 9,
     "metadata": {},
     "output_type": "execute_result"
    }
   ],
   "source": [
    "result = F(B) - F(A)\n",
    "result"
   ]
  },
  {
   "cell_type": "markdown",
   "metadata": {},
   "source": [
    "## Left rectangles method"
   ]
  },
  {
   "cell_type": "code",
   "execution_count": 10,
   "metadata": {
    "collapsed": true
   },
   "outputs": [],
   "source": [
    "def left_rectangles(f, df, a, b, tol):\n",
    "    \"\"\"Compute the definite integral of the function\n",
    "    using left rectangles method\n",
    "    \"\"\"\n",
    "    # Number of nodes to achieve given accuracy\n",
    "    n = int((b-a)**2 \n",
    "            * np.abs(local_max_min(df, a, b) \n",
    "            / tol)) + 1\n",
    "    h = (b-a) / n\n",
    "    x = np.linspace(a, b, n + 1)\n",
    "    return n, np.sum(f(x)) * h"
   ]
  },
  {
   "cell_type": "markdown",
   "metadata": {},
   "source": [
    "## $\\varepsilon = 10^{-5}$"
   ]
  },
  {
   "cell_type": "code",
   "execution_count": 13,
   "metadata": {},
   "outputs": [
    {
     "name": "stdout",
     "output_type": "stream",
     "text": [
      "Number of nodes: 801\n",
      "Value: 0.037544472586935045\n",
      "Absolute error: 4.447258693503903e-05\n",
      "Relative error: 0.0011859356516010406\n"
     ]
    }
   ],
   "source": [
    "n_5, res_5 = left_rectangles(f, df, A, B, 1e-5)\n",
    "print_results(n_5, res_5, result)"
   ]
  },
  {
   "cell_type": "markdown",
   "metadata": {},
   "source": [
    "## $\\varepsilon = 10^{-6}$"
   ]
  },
  {
   "cell_type": "code",
   "execution_count": 14,
   "metadata": {},
   "outputs": [
    {
     "name": "stdout",
     "output_type": "stream",
     "text": [
      "Number of nodes: 8001\n",
      "Value: 0.03750445253767491\n",
      "Absolute error: 4.452537674906609e-06\n",
      "Relative error: 0.00011873433799750956\n"
     ]
    }
   ],
   "source": [
    "n_6, res_6 = left_rectangles(d, df, A, B, 1e-6)\n",
    "print_results(n_6, res_6, result)"
   ]
  },
  {
   "cell_type": "markdown",
   "metadata": {},
   "source": [
    "## Trapezoidal rule"
   ]
  },
  {
   "cell_type": "code",
   "execution_count": 19,
   "metadata": {
    "collapsed": true
   },
   "outputs": [],
   "source": [
    "def trapezoidal_rule(f, d2f, a, b, tol, maxiter=100):\n",
    "    \"\"\"Compute the definite integral of the function\n",
    "    using trapezoidal rule with Runge rule if required\n",
    "    to achieve given accuracy\n",
    "    \"\"\"\n",
    "    d2f_max = local_max_min(d2f, a, b)\n",
    "    # Number of nodes to achieve given accuracy    \n",
    "    n = int(np.sqrt((b-a)**3 \n",
    "                    * np.abs(d2f_max) \n",
    "                    / (6*tol))) + 1\n",
    "    h = (b-a) / n\n",
    "    x = np.linspace(a, b, n + 1)\n",
    "    f_sum = f(x[0]) + 2*np.sum(f(x[1:-1])) + f(x[-1])\n",
    "    J = h / 2 * f_sum\n",
    "    if d2f_max == 0:\n",
    "        for i in range(maxiter):\n",
    "            h /= 2\n",
    "            n = int((b-a) / h)\n",
    "            x = np.linspace(a, b, n + 1)            \n",
    "            f_sum = f(x[0]) \\\n",
    "                    + 2*np.sum(f(x[1:-1])) \\\n",
    "                    + f(x[-1])\n",
    "            J2 = h / 2 * f_sum\n",
    "            if np.abs(J2-J) / 3 <= tol:\n",
    "                return n, J2\n",
    "            J = J2\n",
    "    return  n, J"
   ]
  },
  {
   "cell_type": "markdown",
   "metadata": {},
   "source": [
    "## $\\varepsilon = 10^{-5}$"
   ]
  },
  {
   "cell_type": "code",
   "execution_count": 20,
   "metadata": {},
   "outputs": [
    {
     "name": "stdout",
     "output_type": "stream",
     "text": [
      "Number of nodes: 16\n",
      "Value: 0.037492310621267635\n",
      "Absolute error: 7.689378732370078e-06\n",
      "Relative error: 0.00020505009952986872\n"
     ]
    }
   ],
   "source": [
    "n_5, res_5 = trapezoidal_rule(f, d2f, A, B, 1e-5)\n",
    "print_results(n_5, res_5, result)"
   ]
  },
  {
   "cell_type": "markdown",
   "metadata": {},
   "source": [
    "## $\\varepsilon = 10^{-6}$"
   ]
  },
  {
   "cell_type": "code",
   "execution_count": 21,
   "metadata": {},
   "outputs": [
    {
     "name": "stdout",
     "output_type": "stream",
     "text": [
      "Number of nodes: 64\n",
      "Value: 0.03749951935224457\n",
      "Absolute error: 4.806477554367139e-07\n",
      "Relative error: 1.281727347831237e-05\n"
     ]
    }
   ],
   "source": [
    "n_6, res_6 = trapezoidal_rule(f, d2f, A, B, 1e-6)\n",
    "print_results(n_6, res_6, result)"
   ]
  },
  {
   "cell_type": "markdown",
   "metadata": {},
   "source": [
    "## Simpson's rule"
   ]
  },
  {
   "cell_type": "code",
   "execution_count": 22,
   "metadata": {
    "collapsed": true
   },
   "outputs": [],
   "source": [
    "def simpsons_rule(f, a, b, tol, maxiter=100):\n",
    "    \"\"\"Compute the definite integral of the function\n",
    "    using Simpson's rule with Runge rule \n",
    "    to achieve given accuracy\n",
    "    \"\"\"\n",
    "    h = b - a\n",
    "    # Number of nodes to achieve given accuracy \n",
    "    n = 1 / 2\n",
    "    x = np.linspace(a, b, 2)\n",
    "    f_sum = f(x[0]) + f(x[1])\n",
    "    J = h / 3 * f_sum\n",
    "    for i in range(maxiter):\n",
    "        h /= 2\n",
    "        n = int((b-a) / (2*h))\n",
    "        x = np.linspace(a, b, 2*n + 1)\n",
    "        f_sum = f(x[0]) \\\n",
    "                + f(x[2*n]) \\\n",
    "                + 4*np.sum(f(x[1 : 2*n : 2])) \\\n",
    "                + 2*np.sum(f(x[2 : 2*n : 2])) \n",
    "        J2 = h / 3 * f_sum\n",
    "        if np.abs(J2-J) / 15 < tol:\n",
    "            return 2*n + 1, J2\n",
    "        J = J2\n",
    "    return  2*n + 1, J"
   ]
  },
  {
   "cell_type": "markdown",
   "metadata": {},
   "source": [
    "## $\\varepsilon = 10^{-5}$"
   ]
  },
  {
   "cell_type": "code",
   "execution_count": 23,
   "metadata": {},
   "outputs": [
    {
     "name": "stdout",
     "output_type": "stream",
     "text": [
      "Number of nodes: 5\n",
      "Value: 0.03749880364766115\n",
      "Absolute error: 1.1963523388544561e-06\n",
      "Relative error: 3.190272903611883e-05\n"
     ]
    }
   ],
   "source": [
    "n_5, res_5 = simpsons_rule(f, A, B, 1e-5)\n",
    "print_results(n_5, res_5, result)"
   ]
  },
  {
   "cell_type": "markdown",
   "metadata": {},
   "source": [
    "## $\\varepsilon = 10^{-6}$"
   ]
  },
  {
   "cell_type": "code",
   "execution_count": 24,
   "metadata": {
    "scrolled": true
   },
   "outputs": [
    {
     "name": "stdout",
     "output_type": "stream",
     "text": [
      "Number of nodes: 9\n",
      "Value: 0.03749993097561172\n",
      "Absolute error: 6.902438828837454e-08\n",
      "Relative error: 1.8406503543566541e-06\n"
     ]
    }
   ],
   "source": [
    "n_6, res_6 = simpsons_rule(f, A, B, 1e-6)\n",
    "print_results(n_6, res_6, result)"
   ]
  },
  {
   "cell_type": "markdown",
   "metadata": {},
   "source": [
    "# Task 2\n",
    "## $\\int\\limits_{1.1}^{2.9}{\\frac{1 + 0.4x^2}{0.7 + \\sqrt{1.1x^2 + 1.2}}dx}$"
   ]
  },
  {
   "cell_type": "code",
   "execution_count": 25,
   "metadata": {
    "collapsed": true
   },
   "outputs": [],
   "source": [
    "def f2(x):\n",
    "    return (1 + 0.4*(x**2)) / (0.7 + np.sqrt(1.1*x**2 + 1.2))\n",
    "\n",
    "A2 = 1.1\n",
    "B2 = 2.9"
   ]
  },
  {
   "cell_type": "markdown",
   "metadata": {},
   "source": [
    "## Graph"
   ]
  },
  {
   "cell_type": "code",
   "execution_count": 26,
   "metadata": {},
   "outputs": [
    {
     "data": {
      "text/plain": [
       "<matplotlib.collections.PolyCollection at 0xc969690>"
      ]
     },
     "execution_count": 26,
     "metadata": {},
     "output_type": "execute_result"
    },
    {
     "data": {
      "image/png": "[encoded data removed]",
      "text/plain": [
       "<Figure size 720x720 with 1 Axes>"
      ]
     },
     "metadata": {},
     "output_type": "display_data"
    }
   ],
   "source": [
    "X_A_B = np.linspace(A2, B2, 1000)\n",
    "plt.plot(X, f2(X), c=\"maroon\")\n",
    "\n",
    "plt.fill_between(X_A_B, f2(X_A_B), color=\"maroon\")"
   ]
  },
  {
   "cell_type": "markdown",
   "metadata": {},
   "source": [
    "## Accurate value of the integral\n",
    "### scipy.integrate.quad"
   ]
  },
  {
   "cell_type": "code",
   "execution_count": 27,
   "metadata": {},
   "outputs": [
    {
     "data": {
      "text/plain": [
       "1.544386690112345"
      ]
     },
     "execution_count": 27,
     "metadata": {},
     "output_type": "execute_result"
    }
   ],
   "source": [
    "result2, _ = integrate.quad(f2, A2, B2)\n",
    "result2"
   ]
  },
  {
   "cell_type": "markdown",
   "metadata": {},
   "source": [
    "## Newton–Cotes rule"
   ]
  },
  {
   "cell_type": "code",
   "execution_count": 28,
   "metadata": {
    "collapsed": true
   },
   "outputs": [],
   "source": [
    "def newton_cotes(f, a, b, tol, maxiter=100):\n",
    "    \"\"\"Compute the definite integral of the function\n",
    "    using Newton-Cotes rule with Runge rule \n",
    "    to achieve given accuracy\n",
    "    \"\"\"\n",
    "    h = b - a\n",
    "    J = 0   \n",
    "    for i in range(maxiter):\n",
    "        n = int((b-a) / h)\n",
    "        x = np.linspace(a, b, n + 1)        \n",
    "        H = integrate.newton_cotes(n)[0] / n\n",
    "        J2 = (b-a) * np.sum(H*f(x))\n",
    "        if np.abs(J-J2) < tol:\n",
    "            return n + 1, J2\n",
    "        h /= 2\n",
    "        J = J2\n",
    "    return 1, J"
   ]
  },
  {
   "cell_type": "markdown",
   "metadata": {},
   "source": [
    "## $\\varepsilon = 10^{-5}$"
   ]
  },
  {
   "cell_type": "code",
   "execution_count": 29,
   "metadata": {},
   "outputs": [
    {
     "name": "stdout",
     "output_type": "stream",
     "text": [
      "Number of nodes: 9\n",
      "Value: 1.544386690203755\n",
      "Absolute error: 9.140999068790734e-11\n",
      "Relative error: 5.918853825479277e-11\n"
     ]
    }
   ],
   "source": [
    "n_5, res_5 = newton_cotes(f2, A2, B2, 1e-5)\n",
    "print_results(n_5, res_5, result2)"
   ]
  },
  {
   "cell_type": "markdown",
   "metadata": {},
   "source": [
    "## $\\varepsilon = 10^{-6}$"
   ]
  },
  {
   "cell_type": "code",
   "execution_count": 30,
   "metadata": {
    "scrolled": true
   },
   "outputs": [
    {
     "name": "stdout",
     "output_type": "stream",
     "text": [
      "Number of nodes: 17\n",
      "Value: 1.5443866901006449\n",
      "Absolute error: 1.1700196367314675e-11\n",
      "Relative error: 7.575950014476978e-12\n"
     ]
    }
   ],
   "source": [
    "n_6, res_6 = newton_cotes(f2, A2, B2, 1e-6)\n",
    "print_results(n_6, res_6, result2)"
   ]
  },
  {
   "cell_type": "markdown",
   "metadata": {},
   "source": [
    "# Task 3\n",
    "## $\\int\\limits_{0.2}^{1.11}{\\frac{\\sqrt{x^2 + 1}}{2x + 2.5}dx}$"
   ]
  },
  {
   "cell_type": "code",
   "execution_count": 31,
   "metadata": {
    "collapsed": true
   },
   "outputs": [],
   "source": [
    "def f3(x):\n",
    "    return np.sqrt(x**2 + 1) / (2*x + 2.5)\n",
    "\n",
    "A3 = 0.2\n",
    "B3 = 1.11"
   ]
  },
  {
   "cell_type": "markdown",
   "metadata": {},
   "source": [
    "## Graph"
   ]
  },
  {
   "cell_type": "code",
   "execution_count": 32,
   "metadata": {},
   "outputs": [
    {
     "data": {
      "text/plain": [
       "<matplotlib.collections.PolyCollection at 0xc729690>"
      ]
     },
     "execution_count": 32,
     "metadata": {},
     "output_type": "execute_result"
    },
    {
     "data": {
      "image/png": "[encoded data removed]",
      "text/plain": [
       "<Figure size 720x720 with 1 Axes>"
      ]
     },
     "metadata": {},
     "output_type": "display_data"
    }
   ],
   "source": [
    "X = np.linspace(-0.5, 10, 1000)\n",
    "X_A_B = np.linspace(A3, B3, 1000)\n",
    "plt.plot(X, f3(X), c=\"maroon\")\n",
    "\n",
    "plt.fill_between(X_A_B, f3(X_A_B), color=\"maroon\")"
   ]
  },
  {
   "cell_type": "markdown",
   "metadata": {},
   "source": [
    "## Accurate value of the integral\n",
    "### scipy.integrate.quad"
   ]
  },
  {
   "cell_type": "code",
   "execution_count": 33,
   "metadata": {},
   "outputs": [
    {
     "data": {
      "text/plain": [
       "0.2914236606111758"
      ]
     },
     "execution_count": 33,
     "metadata": {},
     "output_type": "execute_result"
    }
   ],
   "source": [
    "result3, _ = integrate.quad(f3, A3, B3)\n",
    "result3"
   ]
  },
  {
   "cell_type": "markdown",
   "metadata": {},
   "source": [
    "## Chebyshev quadrature for number of nodes 5 and 6"
   ]
  },
  {
   "cell_type": "code",
   "execution_count": 34,
   "metadata": {
    "collapsed": true
   },
   "outputs": [],
   "source": [
    "def chebyshev(f, a, b, n):\n",
    "    \"\"\"Compute the definite integral of the function\n",
    "    using Chebyshev quadrature with 5 or 6 nodes\n",
    "    \"\"\"\n",
    "    if n == 5:\n",
    "        t = np.array([-0.832498, -0.374513, \n",
    "                   0, 0.374513, 0.832498])\n",
    "    elif n == 6:\n",
    "        t = np.array([-0.866247, -0.422519, -0.266635, \n",
    "                   0.266635, 0.422519, 0.866247])\n",
    "    else:\n",
    "        raise ValueError(\"Wrong value of n parameter\")\n",
    "    x = (b+a)/2 + (b-a)*t/2\n",
    "    return (b-a) / n * np.sum(f(x))"
   ]
  },
  {
   "cell_type": "code",
   "execution_count": 35,
   "metadata": {},
   "outputs": [
    {
     "name": "stdout",
     "output_type": "stream",
     "text": [
      "Number of nodes: 5\n",
      "Value: 0.29142315105104466\n",
      "Absolute error: 5.095601311455589e-07\n",
      "Relative error: 1.7485201101273166e-06\n",
      "\n",
      "Number of nodes: 6\n",
      "Value: 0.2914236451084485\n",
      "Absolute error: 1.5502727324090415e-08\n",
      "Relative error: 5.319652938123824e-08\n"
     ]
    }
   ],
   "source": [
    "res_5 = chebyshev(f3, A3, B3, 5)\n",
    "res_6 = chebyshev(f3, A3, B3, 6)\n",
    "print_results(5, res_5, result3)\n",
    "print()\n",
    "print_results(6, res_6, result3)"
   ]
  },
  {
   "cell_type": "markdown",
   "metadata": {},
   "source": [
    "## Gauss quadrature"
   ]
  },
  {
   "cell_type": "code",
   "execution_count": 36,
   "metadata": {
    "collapsed": true
   },
   "outputs": [],
   "source": [
    "def gauss(f, a, b, n):\n",
    "    \"\"\"Compute the definite integral of the function\n",
    "    using Gauss quadrature\n",
    "    \"\"\"\n",
    "    t, c = roots_legendre(n)\n",
    "    x = (b+a)/2 + (b-a)*t/2\n",
    "    return (b-a) / 2 * np.sum(c*f(x))"
   ]
  },
  {
   "cell_type": "code",
   "execution_count": 37,
   "metadata": {
    "scrolled": true
   },
   "outputs": [
    {
     "name": "stdout",
     "output_type": "stream",
     "text": [
      "Number of nodes: 5\n",
      "Value: 0.2914236595614204\n",
      "Absolute error: 1.0497553937227622e-09\n",
      "Relative error: 3.6021625406846086e-09\n",
      "\n",
      "Number of nodes: 6\n",
      "Value: 0.2914236606176464\n",
      "Absolute error: 6.470601832120337e-12\n",
      "Relative error: 2.2203419648734575e-11\n"
     ]
    }
   ],
   "source": [
    "res_5 = gauss(f3, A3, B3, 5)\n",
    "res_6 = gauss(f3, A3, B3, 6)\n",
    "print_results(5, res_5, result3)\n",
    "print()\n",
    "print_results(6, res_6, result3)"
   ]
  },
  {
   "cell_type": "code",
   "execution_count": null,
   "metadata": {
    "collapsed": true
   },
   "outputs": [],
   "source": []
  }
 ],
 "metadata": {
  "kernelspec": {
   "display_name": "Python 3",
   "language": "python",
   "name": "python3"
  },
  "language_info": {
   "codemirror_mode": {
    "name": "ipython",
    "version": 3
   },
   "file_extension": ".py",
   "mimetype": "text/x-python",
   "name": "python",
   "nbconvert_exporter": "python",
   "pygments_lexer": "ipython3",
   "version": "3.6.1"
  },
  "latex_envs": {
   "LaTeX_envs_menu_present": true,
   "autocomplete": true,
   "bibliofile": "biblio.bib",
   "cite_by": "apalike",
   "current_citInitial": 1,
   "eqLabelWithNumbers": true,
   "eqNumInitial": 1,
   "hotkeys": {
    "equation": "Ctrl-E",
    "itemize": "Ctrl-I"
   },
   "labels_anchors": false,
   "latex_user_defs": false,
   "report_style_numbering": false,
   "user_envs_cfg": false
  }
 },
 "nbformat": 4,
 "nbformat_minor": 2
}
