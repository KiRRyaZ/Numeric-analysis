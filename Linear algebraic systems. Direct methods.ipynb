{
 "cells": [
  {
   "cell_type": "code",
   "execution_count": 1,
   "metadata": {
    "collapsed": true
   },
   "outputs": [],
   "source": [
    "import scipy.linalg as lin\n",
    "import numpy as np\n",
    "import matplotlib.pyplot as plt"
   ]
  },
  {
   "cell_type": "code",
   "execution_count": 2,
   "metadata": {
    "collapsed": true
   },
   "outputs": [],
   "source": [
    "%matplotlib inline\n",
    "plt.rc('figure', figsize=(8, 5))"
   ]
  },
  {
   "cell_type": "markdown",
   "metadata": {},
   "source": [
    "### Additional functions"
   ]
  },
  {
   "cell_type": "code",
   "execution_count": 3,
   "metadata": {
    "collapsed": true
   },
   "outputs": [],
   "source": [
    "def get_matrix(n):\n",
    "    return np.matrix(np.zeros((n, n)))"
   ]
  },
  {
   "cell_type": "markdown",
   "metadata": {},
   "source": [
    "# Task 1"
   ]
  },
  {
   "cell_type": "markdown",
   "metadata": {},
   "source": [
    "## Matrix\n",
    "### $\n",
    "\\begin{equation*}\n",
    "A = \\begin{pmatrix}\n",
    "      0.63& -0.76& 1.34& 0.37\\\\\n",
    "      0.54& 0.83& -0.74& -1.27\\\\ \n",
    "      0.24& -0.44& 0.35& 0.55\\\\\n",
    "      0.43& -1.21& 2.32& -1.41\\\\\n",
    "    \\end{pmatrix}\n",
    "\\end{equation*}\\\\\n",
    "b = \\begin{pmatrix}1.21& 0.86& 0.25& 1.55\\end{pmatrix}\n",
    "$"
   ]
  },
  {
   "cell_type": "code",
   "execution_count": 4,
   "metadata": {},
   "outputs": [],
   "source": [
    "A = np.matrix(\n",
    "    [\n",
    "        [0.63, -0.76, 1.34, 0.37], \n",
    "        [0.54, 0.83, -0.74, -1.27], \n",
    "        [0.24, -0.44, 0.35, 0.55], \n",
    "        [0.43, -1.21, 2.32, -1.41]\n",
    "    ])\n",
    "N = len(A)\n",
    "b = np.array([1.21, 0.86, 0.25, 1.55])"
   ]
  },
  {
   "cell_type": "markdown",
   "metadata": {},
   "source": [
    "## LU-decomposition"
   ]
  },
  {
   "cell_type": "markdown",
   "metadata": {},
   "source": [
    "### scipy.linalg.lu"
   ]
  },
  {
   "cell_type": "code",
   "execution_count": 5,
   "metadata": {},
   "outputs": [
    {
     "name": "stdout",
     "output_type": "stream",
     "text": [
      "P:\n",
      "[[ 1.  0.  0.  0.]\n",
      " [ 0.  1.  0.  0.]\n",
      " [ 0.  0.  0.  1.]\n",
      " [ 0.  0.  1.  0.]]\n",
      "L:\n",
      "[[ 1.          0.          0.          0.        ]\n",
      " [ 0.85714286  1.          0.          0.        ]\n",
      " [ 0.68253968 -0.46662381  1.          0.        ]\n",
      " [ 0.38095238 -0.10157506 -0.67215812  1.        ]]\n",
      "U:\n",
      "[[ 0.63       -0.76        1.34        0.37      ]\n",
      " [ 0.          1.48142857 -1.88857143 -1.58714286]\n",
      " [ 0.          0.          0.52414443 -2.40313833]\n",
      " [ 0.          0.          0.         -1.36745546]]\n"
     ]
    }
   ],
   "source": [
    "P, L, U = lin.lu(A)\n",
    "print(\"P:\")\n",
    "print(P)\n",
    "print(\"L:\")\n",
    "print(L)\n",
    "print(\"U:\")\n",
    "print(U)"
   ]
  },
  {
   "cell_type": "markdown",
   "metadata": {},
   "source": [
    "### Personal"
   ]
  },
  {
   "cell_type": "code",
   "execution_count": 6,
   "metadata": {},
   "outputs": [],
   "source": [
    "def lu_decomposition(A):\n",
    "    \"\"\"Return LU-decomposition of the matrix \n",
    "    witout a permutation matrix\n",
    "    \"\"\"\n",
    "    n = len(A)\n",
    "    L = get_matrix(n)\n",
    "    U = get_matrix(n)\n",
    "\n",
    "    for i in range(n):\n",
    "        L[i, 0] = A[i, 0]\n",
    "        U[0, i] = A[0, i] / A[0, 0]    \n",
    "\n",
    "    for i in range(1, n):\n",
    "        for j in range(1, i + 1):   \n",
    "            L[i, j] = A[i, j] \\\n",
    "                      - np.sum([L[i, k] * U[k, j] for k in range(j)])\n",
    "        for j in range(i, n):\n",
    "            U[i, j] = (A[i, j] \\\n",
    "                      - np.sum([L[i, k] * U[k, j] for k in range(i)])) \\\n",
    "                      / L[i, i]   \n",
    "            \n",
    "    return L, U"
   ]
  },
  {
   "cell_type": "code",
   "execution_count": 7,
   "metadata": {},
   "outputs": [
    {
     "name": "stdout",
     "output_type": "stream",
     "text": [
      "L:\n",
      "[[ 0.63        0.          0.          0.        ]\n",
      " [ 0.54        1.48142857  0.          0.        ]\n",
      " [ 0.24       -0.15047619 -0.35230794  0.        ]\n",
      " [ 0.43       -0.69126984  0.52414443 -2.03442524]]\n",
      "U:\n",
      "[[ 1.         -1.20634921  2.12698413  0.58730159]\n",
      " [ 0.          1.         -1.27483124 -1.07135969]\n",
      " [ 0.          0.          1.         -0.70345702]\n",
      " [ 0.          0.          0.          1.        ]]\n"
     ]
    }
   ],
   "source": [
    "l, u = lu_decomposition(A)\n",
    "print(\"L:\")\n",
    "print(l)\n",
    "print(\"U:\")\n",
    "print(u)"
   ]
  },
  {
   "cell_type": "markdown",
   "metadata": {},
   "source": [
    "#### Check"
   ]
  },
  {
   "cell_type": "code",
   "execution_count": 8,
   "metadata": {},
   "outputs": [
    {
     "data": {
      "text/plain": [
       "True"
      ]
     },
     "execution_count": 8,
     "metadata": {},
     "output_type": "execute_result"
    }
   ],
   "source": [
    "np.allclose(A, l @ u)"
   ]
  },
  {
   "cell_type": "markdown",
   "metadata": {},
   "source": [
    "## Determinant"
   ]
  },
  {
   "cell_type": "markdown",
   "metadata": {},
   "source": [
    "### det(A)"
   ]
  },
  {
   "cell_type": "code",
   "execution_count": 9,
   "metadata": {},
   "outputs": [
    {
     "data": {
      "text/plain": [
       "0.6689373300000001"
      ]
     },
     "execution_count": 9,
     "metadata": {},
     "output_type": "execute_result"
    }
   ],
   "source": [
    "lin.det(A)"
   ]
  },
  {
   "cell_type": "markdown",
   "metadata": {},
   "source": [
    "### Using L and U matrices\n",
    "### det(A) = det(LU) = det(L)det(U) = det(L) = $l_{11}l_{22}...l_{nn}$"
   ]
  },
  {
   "cell_type": "code",
   "execution_count": 10,
   "metadata": {},
   "outputs": [
    {
     "data": {
      "text/plain": [
       "0.66893732999999989"
      ]
     },
     "execution_count": 10,
     "metadata": {},
     "output_type": "execute_result"
    }
   ],
   "source": [
    "np.prod(l.diagonal())"
   ]
  },
  {
   "cell_type": "markdown",
   "metadata": {},
   "source": [
    "# Task 2\n",
    "## Solving systems of equations Ax=b"
   ]
  },
  {
   "cell_type": "markdown",
   "metadata": {},
   "source": [
    "### scipy.linalg.solve"
   ]
  },
  {
   "cell_type": "code",
   "execution_count": 11,
   "metadata": {},
   "outputs": [
    {
     "name": "stdout",
     "output_type": "stream",
     "text": [
      "X: [ 1.35057194  0.41781349  0.54581665 -0.1478821 ]\n"
     ]
    }
   ],
   "source": [
    "X = lin.solve(A, b)\n",
    "print(\"X:\", X)"
   ]
  },
  {
   "cell_type": "markdown",
   "metadata": {},
   "source": [
    "### Using L and U matrices\n",
    "### scipy.linalg.lu_solve"
   ]
  },
  {
   "cell_type": "code",
   "execution_count": 12,
   "metadata": {},
   "outputs": [
    {
     "name": "stdout",
     "output_type": "stream",
     "text": [
      "X: [ 1.35057194  0.41781349  0.54581665 -0.1478821 ]\n"
     ]
    }
   ],
   "source": [
    "X = lin.lu_solve(lin.lu_factor(A), b)\n",
    "print(\"X:\", X)"
   ]
  },
  {
   "cell_type": "markdown",
   "metadata": {},
   "source": [
    "### Personal\n",
    "#### $A = LU\\\\\n",
    "LUx = b\\\\\n",
    "Ly = b\\\\\n",
    "Ux = y$"
   ]
  },
  {
   "cell_type": "code",
   "execution_count": 13,
   "metadata": {
    "collapsed": true
   },
   "outputs": [],
   "source": [
    "def solve_lu(l, u, b):\n",
    "    \"\"\"Solve the equation system Ax=b, \n",
    "    given the LU factorization of A \n",
    "    \"\"\"\n",
    "    y = lin.solve_triangular(l, b, lower=True)\n",
    "    x = lin.solve_triangular(u, y)\n",
    "    return x"
   ]
  },
  {
   "cell_type": "code",
   "execution_count": 14,
   "metadata": {},
   "outputs": [
    {
     "name": "stdout",
     "output_type": "stream",
     "text": [
      "X: [ 1.35057194  0.41781349  0.54581665 -0.1478821 ]\n"
     ]
    }
   ],
   "source": [
    "X = solve_lu(l, u, b)\n",
    "print(\"X:\", X)"
   ]
  },
  {
   "cell_type": "markdown",
   "metadata": {},
   "source": [
    "#### Check"
   ]
  },
  {
   "cell_type": "code",
   "execution_count": 15,
   "metadata": {},
   "outputs": [
    {
     "data": {
      "text/plain": [
       "True"
      ]
     },
     "execution_count": 15,
     "metadata": {},
     "output_type": "execute_result"
    }
   ],
   "source": [
    "np.allclose(A @ X, b)"
   ]
  },
  {
   "cell_type": "markdown",
   "metadata": {},
   "source": [
    "## Inverse matrix $A^{-1}$"
   ]
  },
  {
   "cell_type": "markdown",
   "metadata": {},
   "source": [
    "### A.I"
   ]
  },
  {
   "cell_type": "code",
   "execution_count": 16,
   "metadata": {},
   "outputs": [
    {
     "name": "stdout",
     "output_type": "stream",
     "text": [
      "[[ 0.36094861  0.89587914  1.45948799 -0.14290576]\n",
      " [ 2.83577686 -0.29014377 -5.05779219 -0.96742246]\n",
      " [ 1.94349596 -0.50191398 -3.3528537  -0.34577679]\n",
      " [ 0.87434648 -0.30364429 -0.73128525 -0.49153932]]\n"
     ]
    }
   ],
   "source": [
    "print(A.I)"
   ]
  },
  {
   "cell_type": "markdown",
   "metadata": {},
   "source": [
    "### Personal\n",
    "#### Solving the n-th number of systems\n",
    "### $AZ^{(j)}=\\delta^{(j)} j=\\overline{1,n}\\\\\n",
    "Z^{(j)} - the\\:j^{th}\\:column\\:of\\:the\\:inverse\\:matix\\\\\n",
    "\\delta^{(j)} - the\\:j^{th}\\:column\\:of\\:the\\:ones\\:matrix$"
   ]
  },
  {
   "cell_type": "code",
   "execution_count": 17,
   "metadata": {
    "collapsed": true
   },
   "outputs": [
    {
     "data": {
      "text/plain": [
       "array([[ 1.,  0.,  0.,  0.],\n",
       "       [ 0.,  1.,  0.,  0.],\n",
       "       [ 0.,  0.,  1.,  0.],\n",
       "       [ 0.,  0.,  0.,  1.]])"
      ]
     },
     "execution_count": 17,
     "metadata": {},
     "output_type": "execute_result"
    }
   ],
   "source": [
    "δ = np.eye(N)\n",
    "δ"
   ]
  },
  {
   "cell_type": "code",
   "execution_count": 18,
   "metadata": {},
   "outputs": [
    {
     "name": "stdout",
     "output_type": "stream",
     "text": [
      "A_I:\n",
      "[[ 0.36094861  0.89587914  1.45948799 -0.14290576]\n",
      " [ 2.83577686 -0.29014377 -5.05779219 -0.96742246]\n",
      " [ 1.94349596 -0.50191398 -3.3528537  -0.34577679]\n",
      " [ 0.87434648 -0.30364429 -0.73128525 -0.49153932]]\n"
     ]
    }
   ],
   "source": [
    "A_I = np.array([solve_lu(l, u, row) for row in δ]).T\n",
    "print(\"A_I:\")\n",
    "print(A_I)"
   ]
  },
  {
   "cell_type": "markdown",
   "metadata": {},
   "source": [
    "#### Check"
   ]
  },
  {
   "cell_type": "code",
   "execution_count": 19,
   "metadata": {},
   "outputs": [
    {
     "data": {
      "text/plain": [
       "True"
      ]
     },
     "execution_count": 19,
     "metadata": {},
     "output_type": "execute_result"
    }
   ],
   "source": [
    "np.allclose(A @ A_I, np.eye(N))"
   ]
  },
  {
   "cell_type": "markdown",
   "metadata": {},
   "source": [
    "### Using L and U matrices\n",
    "#### $A^{-1} = U^{-1}L^{-1}$"
   ]
  },
  {
   "cell_type": "code",
   "execution_count": 20,
   "metadata": {},
   "outputs": [
    {
     "name": "stdout",
     "output_type": "stream",
     "text": [
      "A_I:\n",
      "[[ 0.36094861  0.89587914  1.45948799 -0.14290576]\n",
      " [ 2.83577686 -0.29014377 -5.05779219 -0.96742246]\n",
      " [ 1.94349596 -0.50191398 -3.3528537  -0.34577679]\n",
      " [ 0.87434648 -0.30364429 -0.73128525 -0.49153932]]\n"
     ]
    }
   ],
   "source": [
    "A_I_lu = u.I @ l.I\n",
    "print(\"A_I:\")\n",
    "print(A_I_lu)"
   ]
  },
  {
   "cell_type": "markdown",
   "metadata": {},
   "source": [
    "#### Check"
   ]
  },
  {
   "cell_type": "code",
   "execution_count": 21,
   "metadata": {},
   "outputs": [
    {
     "data": {
      "text/plain": [
       "True"
      ]
     },
     "execution_count": 21,
     "metadata": {},
     "output_type": "execute_result"
    }
   ],
   "source": [
    "np.allclose(A @ A_I_lu, np.eye(N))"
   ]
  },
  {
   "cell_type": "markdown",
   "metadata": {},
   "source": [
    "# Taks 3\n",
    "## Matrix\n",
    "### $a_{ij} = \\frac{321}{(1 + c)^6}\\\\\n",
    "c = c_{ij} = 2.5\\cdot i \\cdot j$"
   ]
  },
  {
   "cell_type": "code",
   "execution_count": 22,
   "metadata": {},
   "outputs": [],
   "source": [
    "def get_matrix_n(n):\n",
    "    \"\"\"Return a matrix of size n for task 3\"\"\"\n",
    "    matrix = []\n",
    "\n",
    "    for i in range(1, n + 1):\n",
    "        matrix.append([])\n",
    "        for j in range(1, n + 1):\n",
    "            c = 2.5 * i * j\n",
    "            a = 321 / (1+c)**6\n",
    "            matrix[i - 1].append(a)\n",
    "    return np.matrix(matrix)"
   ]
  },
  {
   "cell_type": "markdown",
   "metadata": {},
   "source": [
    "## 2-norm"
   ]
  },
  {
   "cell_type": "code",
   "execution_count": 23,
   "metadata": {
    "collapsed": true
   },
   "outputs": [],
   "source": [
    "def get_norm(matrix, n=2):\n",
    "    \"\"\"Return matrix norm\"\"\"\n",
    "    return np.power(np.abs(matrix), n).sum() ** (1/n)\n",
    "\n",
    "def get_norms(matrixes, n=2):\n",
    "    \"\"\"Return matrices norms\"\"\"\n",
    "    return np.array([get_norm(matrix, n) for matrix in matrixes])"
   ]
  },
  {
   "cell_type": "code",
   "execution_count": 27,
   "metadata": {},
   "outputs": [
    {
     "data": {
      "image/png": "[encoded data removed]",
      "text/plain": [
       "<Figure size 576x360 with 1 Axes>"
      ]
     },
     "metadata": {},
     "output_type": "display_data"
    },
    {
     "data": {
      "text/plain": [
       "{3: 0.17489622711982294,\n",
       " 4: 0.17489641492354047,\n",
       " 5: 0.17489643100747154,\n",
       " 6: 0.17489643310132316,\n",
       " 7: 0.17489643346802827,\n",
       " 8: 0.17489643354814818}"
      ]
     },
     "execution_count": 27,
     "metadata": {},
     "output_type": "execute_result"
    }
   ],
   "source": [
    "mtrx_sizes = range(3, 9)\n",
    "norms_2 = get_norms([get_matrix_n(i) for i in mtrx_sizes])\n",
    "\n",
    "plt.bar(mtrx_sizes, norms_2)\n",
    "plt.ylim((0.17489622, 0.17489643354))\n",
    "plt.xlabel(\"Sizes of the matrices\", fontsize=20)\n",
    "plt.ylabel(\"2-norm\", fontsize=20)\n",
    "\n",
    "plt.show()\n",
    "{n: enorm for n, enorm in zip(mtrx_sizes, norms_2)}"
   ]
  },
  {
   "cell_type": "markdown",
   "metadata": {},
   "source": [
    "## Condition number"
   ]
  },
  {
   "cell_type": "code",
   "execution_count": 25,
   "metadata": {
    "collapsed": true
   },
   "outputs": [],
   "source": [
    "def get_cond(matrix):\n",
    "    \"\"\"Return the conditional number of the matrix\"\"\"\n",
    "    return get_norm(matrix) * get_norm(matrix.I)"
   ]
  },
  {
   "cell_type": "code",
   "execution_count": 28,
   "metadata": {},
   "outputs": [
    {
     "data": {
      "image/png": "[encoded data removed]",
      "text/plain": [
       "<Figure size 576x360 with 1 Axes>"
      ]
     },
     "metadata": {},
     "output_type": "display_data"
    },
    {
     "data": {
      "text/plain": [
       "{3: 2765603.5370397782,\n",
       " 4: 4024711234.849544,\n",
       " 5: 7026429682566.2813,\n",
       " 6: 15345194174582900.0,\n",
       " 7: 4.1643785843410502e+19,\n",
       " 8: 1.3723814737235859e+23}"
      ]
     },
     "execution_count": 28,
     "metadata": {},
     "output_type": "execute_result"
    }
   ],
   "source": [
    "conds = [get_cond(get_matrix_n(i)) for i in mtrx_sizes]\n",
    "\n",
    "plt.bar(mtrx_sizes, conds)\n",
    "plt.xlabel(\"Sizes of the matrices\", fontsize=20)\n",
    "plt.ylabel(\"Condition number\", fontsize=20)\n",
    "\n",
    "plt.show()\n",
    "{n: cond for n, cond in zip(mtrx_sizes, conds)}"
   ]
  },
  {
   "cell_type": "code",
   "execution_count": null,
   "metadata": {},
   "outputs": [],
   "source": []
  }
 ],
 "metadata": {
  "kernelspec": {
   "display_name": "Python 3",
   "language": "python",
   "name": "python3"
  },
  "language_info": {
   "codemirror_mode": {
    "name": "ipython",
    "version": 3
   },
   "file_extension": ".py",
   "mimetype": "text/x-python",
   "name": "python",
   "nbconvert_exporter": "python",
   "pygments_lexer": "ipython3",
   "version": "3.6.1"
  },
  "latex_envs": {
   "LaTeX_envs_menu_present": true,
   "autocomplete": true,
   "bibliofile": "biblio.bib",
   "cite_by": "apalike",
   "current_citInitial": 1,
   "eqLabelWithNumbers": true,
   "eqNumInitial": 1,
   "hotkeys": {
    "equation": "Ctrl-E",
    "itemize": "Ctrl-I"
   },
   "labels_anchors": false,
   "latex_user_defs": false,
   "report_style_numbering": false,
   "user_envs_cfg": false
  }
 },
 "nbformat": 4,
 "nbformat_minor": 2
}
