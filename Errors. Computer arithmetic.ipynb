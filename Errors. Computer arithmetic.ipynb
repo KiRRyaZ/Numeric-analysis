{
 "cells": [
  {
   "cell_type": "code",
   "execution_count": 1,
   "metadata": {
    "collapsed": true
   },
   "outputs": [],
   "source": [
    "from functools import reduce\n",
    "from operator import mul\n",
    "import random\n",
    "\n",
    "from pandas import DataFrame, Series\n",
    "import matplotlib.pyplot as plt\n",
    "import numpy as np"
   ]
  },
  {
   "cell_type": "code",
   "execution_count": 2,
   "metadata": {
    "collapsed": true
   },
   "outputs": [],
   "source": [
    "%matplotlib inline\n",
    "plt.rc('figure', figsize=(15, 5))"
   ]
  },
  {
   "cell_type": "markdown",
   "metadata": {},
   "source": [
    "# Task 1\n",
    "## Series\n",
    "### $\\sum_{n=0}^{\\infty}\\frac{60}{n^2 + 6n + 8}$\n",
    "### Analytical sum"
   ]
  },
  {
   "cell_type": "code",
   "execution_count": 3,
   "metadata": {},
   "outputs": [
    {
     "data": {
      "text/plain": [
       "25"
      ]
     },
     "execution_count": 3,
     "metadata": {},
     "output_type": "execute_result"
    }
   ],
   "source": [
    "SUM = 25\n",
    "SUM"
   ]
  },
  {
   "cell_type": "markdown",
   "metadata": {},
   "source": [
    "### Partial sums and errors\n",
    "### $S_N = \\sum_{n=0}^{N}\\frac{60}{n^2 + 6n + 8}$"
   ]
  },
  {
   "cell_type": "code",
   "execution_count": 4,
   "metadata": {},
   "outputs": [
    {
     "data": {
      "text/html": [
       "<div>\n",
       "<style>\n",
       "    .dataframe thead tr:only-child th {\n",
       "        text-align: right;\n",
       "    }\n",
       "\n",
       "    .dataframe thead th {\n",
       "        text-align: left;\n",
       "    }\n",
       "\n",
       "    .dataframe tbody tr th {\n",
       "        vertical-align: top;\n",
       "    }\n",
       "</style>\n",
       "<table border=\"1\" class=\"dataframe\">\n",
       "  <thead>\n",
       "    <tr style=\"text-align: right;\">\n",
       "      <th></th>\n",
       "      <th>Sum</th>\n",
       "      <th>Absolute error</th>\n",
       "      <th>Relative error</th>\n",
       "    </tr>\n",
       "    <tr>\n",
       "      <th>N</th>\n",
       "      <th></th>\n",
       "      <th></th>\n",
       "      <th></th>\n",
       "    </tr>\n",
       "  </thead>\n",
       "  <tbody>\n",
       "    <tr>\n",
       "      <th>10</th>\n",
       "      <td>20.1923</td>\n",
       "      <td>4.80769</td>\n",
       "      <td>0.192308</td>\n",
       "    </tr>\n",
       "    <tr>\n",
       "      <th>100</th>\n",
       "      <td>24.4146</td>\n",
       "      <td>0.58538</td>\n",
       "      <td>0.0234152</td>\n",
       "    </tr>\n",
       "    <tr>\n",
       "      <th>1000</th>\n",
       "      <td>24.9401</td>\n",
       "      <td>0.0598504</td>\n",
       "      <td>0.00239402</td>\n",
       "    </tr>\n",
       "    <tr>\n",
       "      <th>10000</th>\n",
       "      <td>24.994</td>\n",
       "      <td>0.0059985</td>\n",
       "      <td>0.00023994</td>\n",
       "    </tr>\n",
       "    <tr>\n",
       "      <th>100000</th>\n",
       "      <td>24.9994</td>\n",
       "      <td>0.000599985</td>\n",
       "      <td>2.39994e-05</td>\n",
       "    </tr>\n",
       "  </tbody>\n",
       "</table>\n",
       "</div>"
      ],
      "text/plain": [
       "            Sum Absolute error Relative error\n",
       "N                                            \n",
       "10      20.1923        4.80769       0.192308\n",
       "100     24.4146        0.58538      0.0234152\n",
       "1000    24.9401      0.0598504     0.00239402\n",
       "10000    24.994      0.0059985     0.00023994\n",
       "100000  24.9994    0.000599985    2.39994e-05"
      ]
     },
     "execution_count": 4,
     "metadata": {},
     "output_type": "execute_result"
    }
   ],
   "source": [
    "series = DataFrame(index=[10**n for n in range(1, 6)], \n",
    "                   columns=['Sum', 'Absolute error', 'Relative error'])\n",
    "series.index.name = \"N\"\n",
    "for n in series.index:\n",
    "    series.loc[n, 'Sum'] = sum([60 / (a**2 + 6*a + 8) for a in range(n)])\n",
    "    series.loc[n, 'Absolute error'] = abs(SUM - series.loc[n, 'Sum'])\n",
    "    series.loc[n, 'Relative error'] = series.loc[n, 'Absolute error'] / SUM\n",
    "    \n",
    "series"
   ]
  },
  {
   "cell_type": "markdown",
   "metadata": {},
   "source": [
    "### Chart"
   ]
  },
  {
   "cell_type": "code",
   "execution_count": 5,
   "metadata": {},
   "outputs": [
    {
     "data": {
      "image/png": "[encoded data removed]",
      "text/plain": [
       "<Figure size 1080x720 with 3 Axes>"
      ]
     },
     "metadata": {},
     "output_type": "display_data"
    }
   ],
   "source": [
    "params = {\n",
    "    'kind': 'barh',\n",
    "    'subplots': True, \n",
    "    'sharex': False,\n",
    "    'figsize': (15, 10),\n",
    "    'width': 0.9,\n",
    "    }\n",
    "\n",
    "series.plot(**params)\n",
    "plt.show()"
   ]
  },
  {
   "cell_type": "markdown",
   "metadata": {},
   "source": [
    "# Task 2\n",
    "## Function\n",
    "### $\\mathrm{arsh} x = \\ln2x + \\sum_{k=1}^{\\infty}(-1)^{k - 1}\\frac{(2k-1)!!}{(2k)!!}\\cdot\\frac{1}{2kx^{2k}};|x| > 1$"
   ]
  },
  {
   "cell_type": "code",
   "execution_count": 6,
   "metadata": {
    "collapsed": true
   },
   "outputs": [],
   "source": [
    "def double_fact(n):\n",
    "    \"\"\"Return the double factorial\"\"\"\n",
    "    return reduce(mul, range(1 if n%2 else 2, n+1, 2))\n",
    "\n",
    "def arsh(x, tol=1e-3, maxiter=100):\n",
    "    \"\"\"Return an arsh(x) by using its infinite series\"\"\"\n",
    "    result = np.log(2 * x)\n",
    "    for i in range(1, maxiter):\n",
    "        element = (-1)**(i - 1) \\\n",
    "                  * double_fact(2*i - 1) \\\n",
    "                  / double_fact(2*i) \\\n",
    "                  / (2 * i * x**(2 * i))\n",
    "        result += element\n",
    "        if np.abs(element) <= tol:\n",
    "            return i, result\n",
    "    return maxiter, result  "
   ]
  },
  {
   "cell_type": "code",
   "execution_count": 8,
   "metadata": {},
   "outputs": [
    {
     "name": "stdout",
     "output_type": "stream",
     "text": [
      "arsh(2) = 1.4436354751788103\n",
      "Approximate value: 1.44363563006236\n",
      "Accuracy: 1e-06\n",
      "Number of terms: 7\n",
      "Absolute error: 1.548835497633405e-07\n",
      "Relative error: 1.0728715969255082e-07\n"
     ]
    }
   ],
   "source": [
    "x = 2\n",
    "tol = 1e-6\n",
    "terms, approximate = arsh(x, tol)\n",
    "accurate = np.arcsinh(2)\n",
    "abs_error = abs(accurate - approximate)\n",
    "rel_error = abs_error / accurate\n",
    "\n",
    "print(f\"arsh({x}) = {accurate}\")\n",
    "print(f\"Approximate value: {approximate}\")\n",
    "print(f\"Accuracy: {tol}\")\n",
    "print(f\"Number of terms: {terms}\")\n",
    "print(f\"Absolute error: {abs_error}\")\n",
    "print(f\"Relative error: {rel_error}\")"
   ]
  },
  {
   "cell_type": "markdown",
   "metadata": {},
   "source": [
    "# Task 3\n",
    "## Matrix $5\\times5$\n",
    "### $a_{ij} = \\frac{321}{(1 + c)^6}$\n",
    "### $c = c_{ij} = 2.5\\cdot i\\cdot j$"
   ]
  },
  {
   "cell_type": "code",
   "execution_count": 9,
   "metadata": {},
   "outputs": [
    {
     "data": {
      "text/plain": [
       "array([[  1.74621119e-01,   6.88014403e-03,   8.51121337e-04,\n",
       "          1.81196132e-04,   5.30276549e-05],\n",
       "       [  6.88014403e-03,   1.81196132e-04,   1.91330910e-05,\n",
       "          3.74273660e-06,   1.03911818e-06],\n",
       "       [  8.51121337e-04,   1.91330910e-05,   1.90589012e-06,\n",
       "          3.61688641e-07,   9.85690692e-08],\n",
       "       [  1.81196132e-04,   3.74273660e-06,   3.61688641e-07,\n",
       "          6.75774643e-08,   1.82424841e-08],\n",
       "       [  5.30276549e-05,   1.03911818e-06,   9.85690692e-08,\n",
       "          1.82424841e-08,   4.89623981e-09]])"
      ]
     },
     "execution_count": 9,
     "metadata": {},
     "output_type": "execute_result"
    }
   ],
   "source": [
    "matrix = []\n",
    "n = 5\n",
    "\n",
    "for i in range(1, n + 1):\n",
    "    matrix.append([])\n",
    "    for j in range(1, n + 1):\n",
    "        c = 2.5 * i * j\n",
    "        a = 321 / (1+c)**6\n",
    "        matrix[i - 1].append(a)\n",
    "matrix = np.array(matrix)\n",
    "matrix"
   ]
  },
  {
   "cell_type": "markdown",
   "metadata": {},
   "source": [
    "### Determinant"
   ]
  },
  {
   "cell_type": "code",
   "execution_count": 10,
   "metadata": {},
   "outputs": [
    {
     "data": {
      "text/plain": [
       "1.6701687148549123e-36"
      ]
     },
     "execution_count": 10,
     "metadata": {},
     "output_type": "execute_result"
    }
   ],
   "source": [
    "det = np.linalg.det(matrix)\n",
    "det"
   ]
  },
  {
   "cell_type": "markdown",
   "metadata": {},
   "source": [
    "### Rank"
   ]
  },
  {
   "cell_type": "code",
   "execution_count": 11,
   "metadata": {},
   "outputs": [
    {
     "data": {
      "text/plain": [
       "5"
      ]
     },
     "execution_count": 11,
     "metadata": {},
     "output_type": "execute_result"
    }
   ],
   "source": [
    "np.linalg.matrix_rank(matrix)"
   ]
  },
  {
   "cell_type": "markdown",
   "metadata": {},
   "source": [
    "### Inverse matrix"
   ]
  },
  {
   "cell_type": "code",
   "execution_count": 13,
   "metadata": {},
   "outputs": [
    {
     "data": {
      "text/plain": [
       "array([[  6.59684986e+01,  -8.04344329e+04,   3.86742973e+06,\n",
       "         -3.12981665e+07,   5.51096541e+07],\n",
       "       [ -8.04344329e+04,   8.56963620e+07,  -3.88251312e+09,\n",
       "          3.03840572e+10,  -5.23602567e+10],\n",
       "       [  3.86742973e+06,  -3.88251312e+09,   1.72067480e+11,\n",
       "         -1.33137724e+12,   2.27856609e+12],\n",
       "       [ -3.12981665e+07,   3.03840572e+10,  -1.33137724e+12,\n",
       "          1.02434885e+13,  -1.74719828e+13],\n",
       "       [  5.51096541e+07,  -5.23602567e+10,   2.27856609e+12,\n",
       "         -1.74719828e+13,   2.97418823e+13]])"
      ]
     },
     "execution_count": 13,
     "metadata": {},
     "output_type": "execute_result"
    }
   ],
   "source": [
    "np.linalg.inv(matrix)"
   ]
  },
  {
   "cell_type": "markdown",
   "metadata": {},
   "source": [
    "## Making 5% of errors in diagonal elements"
   ]
  },
  {
   "cell_type": "code",
   "execution_count": 14,
   "metadata": {},
   "outputs": [
    {
     "data": {
      "text/plain": [
       "array([[  1.83352175e-01,   6.88014403e-03,   8.51121337e-04,\n",
       "          1.81196132e-04,   5.30276549e-05],\n",
       "       [  6.88014403e-03,   1.72136325e-04,   1.91330910e-05,\n",
       "          3.74273660e-06,   1.03911818e-06],\n",
       "       [  8.51121337e-04,   1.91330910e-05,   2.00118463e-06,\n",
       "          3.61688641e-07,   9.85690692e-08],\n",
       "       [  1.81196132e-04,   3.74273660e-06,   3.61688641e-07,\n",
       "          7.09563376e-08,   1.82424841e-08],\n",
       "       [  5.30276549e-05,   1.03911818e-06,   9.85690692e-08,\n",
       "          1.82424841e-08,   4.65142782e-09]])"
      ]
     },
     "execution_count": 14,
     "metadata": {},
     "output_type": "execute_result"
    }
   ],
   "source": [
    "random.seed(4354867)\n",
    "\n",
    "matrix_err = matrix.copy()\n",
    "for i in range(n):\n",
    "    matrix_err[i, i] += random.choice([-1, 1]) \\\n",
    "                        * 0.05 \\\n",
    "                        * matrix_err[i, i]\n",
    "matrix_err"
   ]
  },
  {
   "cell_type": "markdown",
   "metadata": {},
   "source": [
    "### Determinant"
   ]
  },
  {
   "cell_type": "code",
   "execution_count": 15,
   "metadata": {},
   "outputs": [
    {
     "data": {
      "text/plain": [
       "2.3716097316155841e-31"
      ]
     },
     "execution_count": 15,
     "metadata": {},
     "output_type": "execute_result"
    }
   ],
   "source": [
    "det_err = np.linalg.det(matrix_err)\n",
    "det_err"
   ]
  },
  {
   "cell_type": "markdown",
   "metadata": {},
   "source": [
    "### Rank"
   ]
  },
  {
   "cell_type": "code",
   "execution_count": 16,
   "metadata": {},
   "outputs": [
    {
     "data": {
      "text/plain": [
       "5"
      ]
     },
     "execution_count": 16,
     "metadata": {},
     "output_type": "execute_result"
    }
   ],
   "source": [
    "np.linalg.matrix_rank(matrix_err)"
   ]
  },
  {
   "cell_type": "markdown",
   "metadata": {},
   "source": [
    "### Inverse matrix"
   ]
  },
  {
   "cell_type": "code",
   "execution_count": 17,
   "metadata": {},
   "outputs": [
    {
     "data": {
      "text/plain": [
       "array([[  1.71992703e+01,   2.28453086e+03,  -4.17781981e+04,\n",
       "         -3.06296749e+05,   1.38016054e+06],\n",
       "       [  2.28453086e+03,  -3.44182172e+05,   1.95157370e+06,\n",
       "          8.03258734e+06,  -2.20139955e+07],\n",
       "       [ -4.17781981e+04,   1.95157370e+06,   1.56443391e+07,\n",
       "          1.35946916e+08,  -8.24386271e+08],\n",
       "       [ -3.06296749e+05,   8.03258734e+06,   1.35946916e+08,\n",
       "          1.94432244e+09,  -8.80891694e+09],\n",
       "       [  1.38016054e+06,  -2.20139955e+07,  -8.24386271e+08,\n",
       "         -8.80891694e+09,   4.14160959e+10]])"
      ]
     },
     "execution_count": 17,
     "metadata": {},
     "output_type": "execute_result"
    }
   ],
   "source": [
    "np.linalg.inv(matrix_err)"
   ]
  },
  {
   "cell_type": "markdown",
   "metadata": {},
   "source": [
    "## Errors"
   ]
  },
  {
   "cell_type": "code",
   "execution_count": 18,
   "metadata": {},
   "outputs": [
    {
     "name": "stdout",
     "output_type": "stream",
     "text": [
      "Absolute error of the determinant: 2.3715930299284357e-31\n",
      "Relative error of the determinant: 141997.21314588605\n"
     ]
    }
   ],
   "source": [
    "abs_det_err = abs(det - det_err)\n",
    "rel_det_err = abs_det_err / det\n",
    "print(f\"Absolute error of the determinant: {abs_det_err}\")\n",
    "print(f\"Relative error of the determinant: {rel_det_err}\")"
   ]
  }
 ],
 "metadata": {
  "kernelspec": {
   "display_name": "Python 3",
   "language": "python",
   "name": "python3"
  },
  "language_info": {
   "codemirror_mode": {
    "name": "ipython",
    "version": 3
   },
   "file_extension": ".py",
   "mimetype": "text/x-python",
   "name": "python",
   "nbconvert_exporter": "python",
   "pygments_lexer": "ipython3",
   "version": "3.6.1"
  }
 },
 "nbformat": 4,
 "nbformat_minor": 2
}
